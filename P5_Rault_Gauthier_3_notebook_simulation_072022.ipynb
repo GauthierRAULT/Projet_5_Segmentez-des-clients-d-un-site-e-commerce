{
 "cells": [
  {
   "cell_type": "code",
   "execution_count": 1,
   "id": "0afe56e6",
   "metadata": {},
   "outputs": [],
   "source": [
    "# pip install flake8 pycodestyle_magic"
   ]
  },
  {
   "cell_type": "code",
   "execution_count": 2,
   "id": "dc7787e5",
   "metadata": {},
   "outputs": [],
   "source": [
    "# %load_ext pycodestyle_magic"
   ]
  },
  {
   "cell_type": "code",
   "execution_count": 3,
   "id": "ad957592",
   "metadata": {},
   "outputs": [],
   "source": [
    "# %pycodestyle_on "
   ]
  },
  {
   "cell_type": "markdown",
   "id": "67bbbeeb",
   "metadata": {},
   "source": [
    "# Chargement des librairies"
   ]
  },
  {
   "cell_type": "code",
   "execution_count": 4,
   "id": "8b590691",
   "metadata": {},
   "outputs": [],
   "source": [
    "import datetime\n",
    "from datetime import timedelta\n",
    "from sklearn.pipeline import Pipeline\n",
    "from sklearn import preprocessing\n",
    "from sklearn.preprocessing import StandardScaler\n",
    "from sklearn.impute import SimpleImputer\n",
    "from sklearn.cluster import KMeans, DBSCAN, AgglomerativeClustering\n",
    "from sklearn.metrics import adjusted_rand_score\n",
    "from yellowbrick.cluster import KElbowVisualizer, SilhouetteVisualizer, \\\n",
    "    InterclusterDistance\n",
    "from sklearn import metrics\n",
    "from sklearn.metrics import adjusted_rand_score\n",
    "import pandas as pd\n",
    "import numpy as np\n",
    "import matplotlib.pyplot as plt\n",
    "import seaborn as sns\n",
    "import missingno as msno\n",
    "import warnings  # supress warnings\n",
    "warnings.filterwarnings('ignore')"
   ]
  },
  {
   "cell_type": "markdown",
   "id": "f74c928b",
   "metadata": {},
   "source": [
    "# Récupération des données"
   ]
  },
  {
   "cell_type": "code",
   "execution_count": 5,
   "id": "b149015d",
   "metadata": {},
   "outputs": [],
   "source": [
    "commande = pd.read_csv(\"/Users/gauthierrault/Desktop/P5/commande.csv\")\n",
    "\n",
    "rfm = pd.read_csv(\"/Users/gauthierrault/Desktop/P5/rfm.csv\")\n",
    "\n",
    "rfm_review = pd.read_csv(\"/Users/gauthierrault/Desktop/P5/rfm_review.csv\")"
   ]
  },
  {
   "cell_type": "code",
   "execution_count": 6,
   "id": "ed78a650",
   "metadata": {},
   "outputs": [],
   "source": [
    "commande.drop(['Unnamed: 0'], axis=1, inplace=True)"
   ]
  },
  {
   "cell_type": "code",
   "execution_count": 7,
   "id": "e197100b",
   "metadata": {},
   "outputs": [],
   "source": [
    "commande.set_index(['customer_unique_id'], inplace=True)"
   ]
  },
  {
   "cell_type": "code",
   "execution_count": 8,
   "id": "3547d47e",
   "metadata": {
    "scrolled": true
   },
   "outputs": [],
   "source": [
    "rfm.set_index(['customer_unique_id'], inplace=True)"
   ]
  },
  {
   "cell_type": "code",
   "execution_count": 9,
   "id": "b20bdb5f",
   "metadata": {},
   "outputs": [],
   "source": [
    "rfm_review.set_index(['customer_unique_id'], inplace=True)"
   ]
  },
  {
   "cell_type": "code",
   "execution_count": 10,
   "id": "f2db1e31",
   "metadata": {},
   "outputs": [],
   "source": [
    "# Transformation timestamps en datetime\n",
    "time = [\"order_purchase_timestamp\", \"order_approved_at\",\n",
    "        \"order_delivered_carrier_date\", \"order_delivered_customer_date\",\n",
    "        \"order_estimated_delivery_date\"]\n",
    "for cols in time:\n",
    "    commande[cols] = pd.to_datetime(commande[cols], format=\"%Y-%m-%d\", errors=\"ignore\")"
   ]
  },
  {
   "cell_type": "code",
   "execution_count": 11,
   "id": "de45e47a",
   "metadata": {},
   "outputs": [],
   "source": [
    "def periode(df, start=None, period=30) :\n",
    "    date=df['order_purchase_timestamp'].apply(lambda x :x.date())\n",
    "    if start is None :\n",
    "        start=df['order_purchase_timestamp'].min().date()\n",
    "    end=start + timedelta(days=period)\n",
    "    odf=df[(date >= start) & (date <= end)]\n",
    "    return odf"
   ]
  },
  {
   "cell_type": "code",
   "execution_count": 12,
   "id": "12cda6e2",
   "metadata": {},
   "outputs": [],
   "source": [
    "def transformer(df):\n",
    "    aggr = {\n",
    "        'order_id' : lambda x : len(x.unique()), # Nombre de commande sur la période\n",
    "        'days_orders' : lambda x : x.min(), # nombre de jour depuis la dernière commande\n",
    "        \"payment_value\" : \"sum\",\n",
    "        \"review_score\" : \"mean\"}\n",
    "    END = df['order_purchase_timestamp'].max().date()\n",
    "    days_order = df[\"order_purchase_timestamp\"].apply(lambda x : (END-x.date()).days).tolist()\n",
    "    df = pd.concat([df, pd.Series(data = days_order, index = df.index,name = 'days_orders')], axis = 1)\n",
    "    odf = df.groupby(\"customer_unique_id\").agg(aggr)\n",
    "    odf.rename(columns = {\"order_id\": \"n_orders\"}, inplace =True)\n",
    "    col = [\"n_orders\", \"n_days_last_order\", 'total_price', 'mean_review_score']\n",
    "    odf.columns = col \n",
    "    return odf"
   ]
  },
  {
   "cell_type": "code",
   "execution_count": 13,
   "id": "3ec2cd96",
   "metadata": {},
   "outputs": [
    {
     "name": "stdout",
     "output_type": "stream",
     "text": [
      "Premier jour de la BDD : 2016-09-15 12:16:38\n",
      "Dernier jour de la BDD : 2018-08-29 15:00:37\n"
     ]
    }
   ],
   "source": [
    "print(f\"Premier jour de la BDD : {commande['order_purchase_timestamp'].min()}\")\n",
    "print(f\"Dernier jour de la BDD : {commande['order_purchase_timestamp'].max()}\")"
   ]
  },
  {
   "cell_type": "code",
   "execution_count": 14,
   "id": "c6451747",
   "metadata": {},
   "outputs": [
    {
     "name": "stdout",
     "output_type": "stream",
     "text": [
      "Premier jour de la BDD : 2016-09-15\n",
      "Dernier jour de la BDD : 2017-03-14\n"
     ]
    }
   ],
   "source": [
    "tinit = 180\n",
    "data_init = periode(commande, period=tinit)\n",
    "print(f\"Premier jour de la BDD : {data_init['order_purchase_timestamp'].min().date()}\")\n",
    "print(f\"Dernier jour de la BDD : {data_init['order_purchase_timestamp'].max().date()}\")"
   ]
  },
  {
   "cell_type": "code",
   "execution_count": 15,
   "id": "b2bbbfd9",
   "metadata": {
    "scrolled": false
   },
   "outputs": [
    {
     "data": {
      "text/html": [
       "<div>\n",
       "<style scoped>\n",
       "    .dataframe tbody tr th:only-of-type {\n",
       "        vertical-align: middle;\n",
       "    }\n",
       "\n",
       "    .dataframe tbody tr th {\n",
       "        vertical-align: top;\n",
       "    }\n",
       "\n",
       "    .dataframe thead th {\n",
       "        text-align: right;\n",
       "    }\n",
       "</style>\n",
       "<table border=\"1\" class=\"dataframe\">\n",
       "  <thead>\n",
       "    <tr style=\"text-align: right;\">\n",
       "      <th></th>\n",
       "      <th>n_orders</th>\n",
       "      <th>n_days_last_order</th>\n",
       "      <th>total_price</th>\n",
       "      <th>mean_review_score</th>\n",
       "    </tr>\n",
       "    <tr>\n",
       "      <th>customer_unique_id</th>\n",
       "      <th></th>\n",
       "      <th></th>\n",
       "      <th></th>\n",
       "      <th></th>\n",
       "    </tr>\n",
       "  </thead>\n",
       "  <tbody>\n",
       "    <tr>\n",
       "      <th>0000f46a3911fa3c0805444483337064</th>\n",
       "      <td>1</td>\n",
       "      <td>4</td>\n",
       "      <td>86.22</td>\n",
       "      <td>3.0</td>\n",
       "    </tr>\n",
       "    <tr>\n",
       "      <th>0005e1862207bf6ccc02e4228effd9a0</th>\n",
       "      <td>1</td>\n",
       "      <td>10</td>\n",
       "      <td>150.12</td>\n",
       "      <td>4.0</td>\n",
       "    </tr>\n",
       "    <tr>\n",
       "      <th>00115fc7123b5310cf6d3a3aa932699e</th>\n",
       "      <td>1</td>\n",
       "      <td>52</td>\n",
       "      <td>76.11</td>\n",
       "      <td>4.0</td>\n",
       "    </tr>\n",
       "    <tr>\n",
       "      <th>002b4cd83fabaffaa475f78ea5ef3e08</th>\n",
       "      <td>1</td>\n",
       "      <td>41</td>\n",
       "      <td>64.42</td>\n",
       "      <td>2.0</td>\n",
       "    </tr>\n",
       "    <tr>\n",
       "      <th>0032c76b20340da25249092a268ce66c</th>\n",
       "      <td>1</td>\n",
       "      <td>159</td>\n",
       "      <td>144.94</td>\n",
       "      <td>4.0</td>\n",
       "    </tr>\n",
       "  </tbody>\n",
       "</table>\n",
       "</div>"
      ],
      "text/plain": [
       "                                  n_orders  n_days_last_order  total_price  \\\n",
       "customer_unique_id                                                           \n",
       "0000f46a3911fa3c0805444483337064         1                  4        86.22   \n",
       "0005e1862207bf6ccc02e4228effd9a0         1                 10       150.12   \n",
       "00115fc7123b5310cf6d3a3aa932699e         1                 52        76.11   \n",
       "002b4cd83fabaffaa475f78ea5ef3e08         1                 41        64.42   \n",
       "0032c76b20340da25249092a268ce66c         1                159       144.94   \n",
       "\n",
       "                                  mean_review_score  \n",
       "customer_unique_id                                   \n",
       "0000f46a3911fa3c0805444483337064                3.0  \n",
       "0005e1862207bf6ccc02e4228effd9a0                4.0  \n",
       "00115fc7123b5310cf6d3a3aa932699e                4.0  \n",
       "002b4cd83fabaffaa475f78ea5ef3e08                2.0  \n",
       "0032c76b20340da25249092a268ce66c                4.0  "
      ]
     },
     "execution_count": 15,
     "metadata": {},
     "output_type": "execute_result"
    }
   ],
   "source": [
    "data_init = transformer(data_init)\n",
    "cust_init = data_init.index\n",
    "data_init.head()"
   ]
  },
  {
   "cell_type": "code",
   "execution_count": 16,
   "id": "7e4eaa18",
   "metadata": {},
   "outputs": [],
   "source": [
    "scaler_init = preprocessing.StandardScaler().fit(data_init)\n",
    "data_init_norm = scaler_init.transform(data_init)"
   ]
  },
  {
   "cell_type": "code",
   "execution_count": 17,
   "id": "c4b618aa",
   "metadata": {
    "scrolled": false
   },
   "outputs": [],
   "source": [
    "cls_init = KMeans(n_clusters=4, n_init=20, random_state=0)\n",
    "cls_init.fit(data_init_norm)\n",
    "pred_init = pd.Series(index=cust_init, data=cls_init.predict(data_init_norm))"
   ]
  },
  {
   "cell_type": "code",
   "execution_count": 18,
   "id": "0a8628d8",
   "metadata": {},
   "outputs": [
    {
     "data": {
      "image/png": "[encoded data removed]",
      "text/plain": [
       "<Figure size 576x396 with 1 Axes>"
      ]
     },
     "metadata": {},
     "output_type": "display_data"
    }
   ],
   "source": [
    "ARI = []\n",
    "periods = range(15, 180, 15)\n",
    "for days in periods:\n",
    "    data_step = periode(commande, period=tinit+days)\n",
    "    data_step = transformer(data_step)\n",
    "    data_step_oldnorm = scaler_init.transform(data_step)\n",
    "    pred_step_no_update = cls_init.predict(data_step_oldnorm)\n",
    "    scaler_step = preprocessing.StandardScaler().fit(data_step)\n",
    "    data_step_norm = scaler_step.transform(data_step)\n",
    "    cls_step = KMeans(n_clusters=4, n_init=20, random_state=0)\n",
    "    cls_step.fit(data_step_norm)\n",
    "    pred_step_update = cls_step.predict(data_step_norm)\n",
    "    ARI.append(metrics.adjusted_rand_score(pred_step_no_update, pred_step_update))\n",
    "fig, ax = plt.subplots()\n",
    "ax.plot(periods, ARI, linestyle=\"--\", marker=\"o\")\n",
    "ax.set_xlabel('period (days)')\n",
    "ax.set_ylabel('ARI')\n",
    "plt.show()"
   ]
  },
  {
   "cell_type": "code",
   "execution_count": 19,
   "id": "bc8465c2",
   "metadata": {},
   "outputs": [
    {
     "data": {
      "image/png": "[encoded data removed]",
      "text/plain": [
       "<Figure size 576x396 with 1 Axes>"
      ]
     },
     "metadata": {},
     "output_type": "display_data"
    }
   ],
   "source": [
    "ARI = []\n",
    "periods = [1, 7, 30,  60, 90, 120, 180]\n",
    "for days in periods:\n",
    "    data_step = periode(commande, period=tinit+days)\n",
    "    data_step = transformer(data_step)\n",
    "    data_step_oldnorm = scaler_init.transform(data_step)\n",
    "    pred_step_no_update = cls_init.predict(data_step_oldnorm)\n",
    "    scaler_step = preprocessing.StandardScaler().fit(data_step)\n",
    "    data_step_norm = scaler_step.transform(data_step)\n",
    "    cls_step = KMeans(n_clusters=4, n_init=20, random_state=0)\n",
    "    cls_step.fit(data_step_norm)\n",
    "    pred_step_update = cls_step.predict(data_step_norm)\n",
    "    ARI.append(metrics.adjusted_rand_score(pred_step_no_update, pred_step_update))\n",
    "fig, ax = plt.subplots()\n",
    "ax.plot(periods, ARI, linestyle=\"--\", marker=\"o\")\n",
    "ax.set_xlabel('period (days)')\n",
    "ax.set_ylabel('ARI')\n",
    "plt.show()"
   ]
  },
  {
   "cell_type": "code",
   "execution_count": 20,
   "id": "15ba1ae0",
   "metadata": {},
   "outputs": [],
   "source": [
    "cls_init = KMeans(n_clusters=3, n_init=20, random_state=0)\n",
    "cls_init.fit(data_init_norm)\n",
    "pred_init = pd.Series(index=cust_init, data=cls_init.predict(data_init_norm))"
   ]
  },
  {
   "cell_type": "code",
   "execution_count": 21,
   "id": "e6c3b606",
   "metadata": {},
   "outputs": [
    {
     "data": {
      "image/png": "[encoded data removed]",
      "text/plain": [
       "<Figure size 576x396 with 1 Axes>"
      ]
     },
     "metadata": {},
     "output_type": "display_data"
    }
   ],
   "source": [
    "ARI = []\n",
    "periods = [1, 7, 30,  60, 90, 120, 180]\n",
    "for days in periods:\n",
    "    data_step = periode(commande, period=tinit+days)\n",
    "    data_step = transformer(data_step)\n",
    "    data_step_oldnorm = scaler_init.transform(data_step)\n",
    "    pred_step_no_update = cls_init.predict(data_step_oldnorm)\n",
    "    scaler_step = preprocessing.StandardScaler().fit(data_step)\n",
    "    data_step_norm = scaler_step.transform(data_step)\n",
    "    cls_step = KMeans(n_clusters=3, n_init=20, random_state=0)\n",
    "    cls_step.fit(data_step_norm)\n",
    "    pred_step_update = cls_step.predict(data_step_norm)\n",
    "    ARI.append(metrics.adjusted_rand_score(pred_step_no_update, pred_step_update))\n",
    "fig, ax = plt.subplots()\n",
    "ax.plot(periods, ARI, linestyle=\"--\", marker=\"o\")\n",
    "ax.set_xlabel('period (days)')\n",
    "ax.set_ylabel('ARI')\n",
    "plt.show()"
   ]
  },
  {
   "cell_type": "code",
   "execution_count": 31,
   "id": "9de1efd7",
   "metadata": {},
   "outputs": [
    {
     "name": "stdout",
     "output_type": "stream",
     "text": [
      "Premier jour de la BDD : 2017-01-05\n",
      "Dernier jour de la BDD : 2017-04-01\n"
     ]
    },
    {
     "data": {
      "text/plain": [
       "KMeans(n_clusters=4, n_init=20, random_state=0)"
      ]
     },
     "execution_count": 31,
     "metadata": {},
     "output_type": "execute_result"
    }
   ],
   "source": [
    "tinit = 90\n",
    "dstart = datetime.datetime(2017, 1, 1).date()\n",
    "data_init = periode(commande, start=dstart, period=tinit)\n",
    "print(f\"Premier jour de la BDD : {data_init['order_purchase_timestamp'].min().date()}\")\n",
    "print(f\"Dernier jour de la BDD : {data_init['order_purchase_timestamp'].max().date()}\")\n",
    "data_init = transformer(data_init)\n",
    "scaler_init = preprocessing.StandardScaler().fit(data_init)\n",
    "data_init_norm = scaler_init.transform(data_init)\n",
    "cls_init = KMeans(n_clusters=4, n_init=20, random_state=0)\n",
    "cls_init.fit(data_init_norm)"
   ]
  },
  {
   "cell_type": "code",
   "execution_count": 32,
   "id": "e45e9767",
   "metadata": {},
   "outputs": [
    {
     "data": {
      "image/png": "[encoded data removed]",
      "text/plain": [
       "<Figure size 576x396 with 1 Axes>"
      ]
     },
     "metadata": {},
     "output_type": "display_data"
    }
   ],
   "source": [
    "ARI = []\n",
    "periods = range(30, 180, 30)\n",
    "for days in periods:\n",
    "    data_step = periode(commande, period=tinit+days)\n",
    "    data_step = transformer(data_step)\n",
    "    data_step_oldnorm = scaler_init.transform(data_step)\n",
    "    pred_step_no_update = cls_init.predict(data_step_oldnorm)\n",
    "    scaler_step = preprocessing.StandardScaler().fit(data_step)\n",
    "    data_step_norm = scaler_step.transform(data_step)\n",
    "    cls_step = KMeans(n_clusters=4, n_init=20, random_state=0)\n",
    "    cls_step.fit(data_step_norm)\n",
    "    pred_step_update = cls_step.predict(data_step_norm)\n",
    "    ARI.append(metrics.adjusted_rand_score(pred_step_no_update, pred_step_update))\n",
    "fig, ax = plt.subplots()\n",
    "ax.plot(periods, ARI, linestyle=\"--\", marker=\"o\")\n",
    "ax.set_xlabel('period (days)')\n",
    "ax.set_ylabel('ARI')\n",
    "plt.show()"
   ]
  },
  {
   "cell_type": "code",
   "execution_count": 42,
   "id": "8ca57b1c",
   "metadata": {},
   "outputs": [
    {
     "name": "stdout",
     "output_type": "stream",
     "text": [
      "Premier jour de la BDD : 2018-01-01\n",
      "Dernier jour de la BDD : 2018-04-01\n"
     ]
    },
    {
     "data": {
      "text/plain": [
       "KMeans(n_clusters=4, n_init=20, random_state=0)"
      ]
     },
     "execution_count": 42,
     "metadata": {},
     "output_type": "execute_result"
    }
   ],
   "source": [
    "tinit = 90\n",
    "dstart = datetime.datetime(2018, 1, 1).date()\n",
    "data_init = periode(commande, start=dstart, period=tinit)\n",
    "print(f\"Premier jour de la BDD : {data_init['order_purchase_timestamp'].min().date()}\")\n",
    "print(f\"Dernier jour de la BDD : {data_init['order_purchase_timestamp'].max().date()}\")\n",
    "data_init = transformer(data_init)\n",
    "scaler_init = preprocessing.StandardScaler().fit(data_init)\n",
    "data_init_norm = scaler_init.transform(data_init)\n",
    "cls_init = KMeans(n_clusters=4, n_init=20, random_state=0)\n",
    "cls_init.fit(data_init_norm)"
   ]
  },
  {
   "cell_type": "code",
   "execution_count": 45,
   "id": "3013d217",
   "metadata": {
    "scrolled": true
   },
   "outputs": [
    {
     "data": {
      "image/png": "[encoded data removed]",
      "text/plain": [
       "<Figure size 576x396 with 1 Axes>"
      ]
     },
     "metadata": {},
     "output_type": "display_data"
    }
   ],
   "source": [
    "ARI = []\n",
    "periods = range(30, 90, 15)\n",
    "for days in periods:\n",
    "    data_step = periode(commande, period=tinit+days)\n",
    "    data_step = transformer(data_step)\n",
    "    data_step_oldnorm = scaler_init.transform(data_step)\n",
    "    pred_step_no_update = cls_init.predict(data_step_oldnorm)\n",
    "    scaler_step = preprocessing.StandardScaler().fit(data_step)\n",
    "    data_step_norm = scaler_step.transform(data_step)\n",
    "    cls_step = KMeans(n_clusters=4, n_init=20, random_state=0)\n",
    "    cls_step.fit(data_step_norm)\n",
    "    pred_step_update = cls_step.predict(data_step_norm)\n",
    "    ARI.append(metrics.adjusted_rand_score(pred_step_no_update, pred_step_update))\n",
    "fig, ax = plt.subplots()\n",
    "ax.plot(periods, ARI, linestyle=\"--\", marker=\"o\")\n",
    "ax.set_xlabel('period (days)')\n",
    "ax.set_ylabel('ARI')\n",
    "plt.show()"
   ]
  },
  {
   "cell_type": "code",
   "execution_count": null,
   "id": "b2dce466",
   "metadata": {},
   "outputs": [],
   "source": []
  },
  {
   "cell_type": "code",
   "execution_count": null,
   "id": "5a8c7df5",
   "metadata": {},
   "outputs": [],
   "source": []
  },
  {
   "cell_type": "code",
   "execution_count": null,
   "id": "25d983d7",
   "metadata": {},
   "outputs": [],
   "source": []
  },
  {
   "cell_type": "code",
   "execution_count": null,
   "id": "240fab4e",
   "metadata": {},
   "outputs": [],
   "source": []
  },
  {
   "cell_type": "code",
   "execution_count": null,
   "id": "077a5e07",
   "metadata": {},
   "outputs": [],
   "source": []
  },
  {
   "cell_type": "code",
   "execution_count": null,
   "id": "d2f4d2bd",
   "metadata": {},
   "outputs": [],
   "source": []
  },
  {
   "cell_type": "code",
   "execution_count": null,
   "id": "1c73e7f8",
   "metadata": {},
   "outputs": [],
   "source": []
  }
 ],
 "metadata": {
  "kernelspec": {
   "display_name": "Python 3 (ipykernel)",
   "language": "python",
   "name": "python3"
  },
  "language_info": {
   "codemirror_mode": {
    "name": "ipython",
    "version": 3
   },
   "file_extension": ".py",
   "mimetype": "text/x-python",
   "name": "python",
   "nbconvert_exporter": "python",
   "pygments_lexer": "ipython3",
   "version": "3.9.12"
  }
 },
 "nbformat": 4,
 "nbformat_minor": 5
}
